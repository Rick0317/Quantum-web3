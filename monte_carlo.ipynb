{
  "cells": [
    {
      "cell_type": "code",
      "execution_count": 26,
      "metadata": {
        "id": "-4EOCzxSwccr"
      },
      "outputs": [],
      "source": [
        "import numpy as np\n",
        "import pandas as pd\n",
        "import math\n",
        "import matplotlib.pyplot as plt"
      ]
    },
    {
      "cell_type": "code",
      "execution_count": null,
      "metadata": {
        "id": "-gqI-RyOwMxD"
      },
      "outputs": [],
      "source": [
        "apple_stock = \"data/Apple_Stock_onemonth.csv\"\n",
        "df = pd.read_csv(apple_stock)\n",
        "print(df)\n",
        "time_elapsed = 29\n",
        "close = df['Close/Last'].to_numpy()\n",
        "volume = df['Volume'].to_numpy()\n",
        "open = df['Open'].to_numpy()\n",
        "high = df['High'].to_numpy()\n",
        "low = df['Low'].to_numpy()\n",
        "for i in range(close.size):\n",
        "  close[i] = float(close[i][1:])\n",
        "  open[i] = float(open[i][1:])\n",
        "  high[i] = float(high[i][1:])\n",
        "  low[i] = float(low[i][1:])\n",
        "close_data = pd.DataFrame(close)"
      ]
    },
    {
      "cell_type": "code",
      "execution_count": 36,
      "metadata": {
        "colab": {
          "base_uri": "https://localhost:8080/"
        },
        "id": "cyK7vf6ezMdV",
        "outputId": "e6f340e2-f44c-496e-cacc-210e36b8ee7f"
      },
      "outputs": [
        {
          "name": "stdout",
          "output_type": "stream",
          "text": [
            "cagr (mean returns) :  -0.1825\n",
            "std_dev (standard deviation of return : ) 0    0.3832\n",
            "dtype: float64\n"
          ]
        }
      ],
      "source": [
        "total_growth = close[0] / close[-1]\n",
        "\n",
        "number_of_years = time_elapsed/365.0\n",
        "cagr = total_growth ** (1/number_of_years) - 1\n",
        "std_dev = close_data.pct_change().std()\n",
        "number_of_trading_days = 252\n",
        "std_dev = std_dev * math.sqrt(number_of_trading_days)\n",
        "print (\"cagr (mean returns) : \", str(round(cagr,4)))\n",
        "print (\"std_dev (standard deviation of return : )\", str(round(std_dev,4)))"
      ]
    },
    {
      "cell_type": "code",
      "execution_count": 41,
      "metadata": {
        "id": "RLVbo-v41Skm"
      },
      "outputs": [],
      "source": [
        "daily_return_percentages = np.random.normal(cagr/number_of_trading_days, std_dev/math.sqrt(number_of_trading_days), number_of_trading_days)+1"
      ]
    },
    {
      "cell_type": "code",
      "execution_count": null,
      "metadata": {
        "id": "mY5ay2cY198m"
      },
      "outputs": [],
      "source": [
        "print(daily_return_percentages)"
      ]
    },
    {
      "cell_type": "code",
      "execution_count": 43,
      "metadata": {
        "colab": {
          "base_uri": "https://localhost:8080/",
          "height": 265
        },
        "id": "PHKtaTfd1n7b",
        "outputId": "9c8c0af6-84c7-447b-817e-0a481993d9cf"
      },
      "outputs": [
        {
          "data": {
            "image/png": "[encoded data removed]",
            "text/plain": [
              "<Figure size 432x288 with 1 Axes>"
            ]
          },
          "metadata": {
            "needs_background": "light"
          },
          "output_type": "display_data"
        }
      ],
      "source": [
        "price_series = [close[-1]]\n",
        "for j in daily_return_percentages:\n",
        "    price_series.append(price_series[-1] * j)\n",
        "\n",
        "#Great, now we can plot of single 'random walk' of stock prices\n",
        "plt.plot(price_series)\n",
        "plt.show()"
      ]
    },
    {
      "cell_type": "code",
      "execution_count": null,
      "metadata": {
        "id": "udccVhJu31cg"
      },
      "outputs": [],
      "source": [
        "number_of_trials = 3000\n",
        "closing_prices = []\n",
        "for i in range(number_of_trials):\n",
        "    #calculate randomized return percentages following our normal distribution\n",
        "    #and using the mean / std dev we calculated above\n",
        "    daily_return_percentages = np.random.normal(cagr/number_of_trading_days, std_dev/math.sqrt(number_of_trading_days),number_of_trading_days)+1\n",
        "    price_series = [close[-1]]\n",
        "\n",
        "    for j in daily_return_percentages:\n",
        "        #extrapolate price out for next year\n",
        "        price_series.append(price_series[-1] * j)\n",
        "\n",
        "    #append closing prices in last day of window for histogram\n",
        "    closing_prices.append(price_series[-1])\n",
        "\n",
        "    #plot all random walks\n",
        "    plt.plot(price_series)\n",
        "\n",
        "plt.show()\n",
        "plt.hist(closing_prices,bins=40)\n",
        "\n",
        "plt.show()"
      ]
    },
    {
      "cell_type": "code",
      "execution_count": 46,
      "metadata": {
        "colab": {
          "base_uri": "https://localhost:8080/"
        },
        "id": "7CI4z0KC4VOr",
        "outputId": "0000f65b-4121-4a2c-b13a-4082d3f2b52a"
      },
      "outputs": [
        {
          "name": "stdout",
          "output_type": "stream",
          "text": [
            "Expected price:  127.1\n"
          ]
        }
      ],
      "source": [
        "mean_end_price = round(np.mean(closing_prices),2)\n",
        "print(\"Expected price: \", str(mean_end_price))"
      ]
    },
    {
      "cell_type": "code",
      "execution_count": null,
      "metadata": {
        "id": "z-pIIUty4bTM"
      },
      "outputs": [],
      "source": [
        "top_ten = np.percentile(closing_prices,100-10)\n",
        "\n",
        "#Pull bottom 10% of possible outcomes\n",
        "bottom_ten = np.percentile(closing_prices,10);\n",
        "\n",
        "#create histogram again\n",
        "plt.hist(closing_prices,bins=40)\n",
        "#append w/ top 10% line\n",
        "plt.axvline(top_ten,color='r',linestyle='dashed',linewidth=2)\n",
        "#append w/ bottom 10% line\n",
        "plt.axvline(bottom_ten,color='r',linestyle='dashed',linewidth=2)\n",
        "#append with current price\n",
        "plt.axvline(close[-1],color='g', linestyle='dashed',linewidth=2)\n",
        "\n",
        "plt.show()"
      ]
    }
  ],
  "metadata": {
    "colab": {
      "provenance": []
    },
    "kernelspec": {
      "display_name": "Python 3",
      "name": "python3"
    },
    "language_info": {
      "name": "python"
    }
  },
  "nbformat": 4,
  "nbformat_minor": 0
}
